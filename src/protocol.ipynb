{
 "cells": [
  {
   "cell_type": "code",
   "execution_count": 1,
   "id": "854e0dab",
   "metadata": {},
   "outputs": [],
   "source": [
    "from sklearn.datasets import load_digits\n",
    "\n",
    "from simulation.simulation import Simulation"
   ]
  },
  {
   "cell_type": "markdown",
   "id": "eb85b15a",
   "metadata": {},
   "source": [
    "# Testing"
   ]
  },
  {
   "cell_type": "code",
   "execution_count": 2,
   "id": "d2e84e38",
   "metadata": {},
   "outputs": [],
   "source": [
    "HYPERPARAMS = {\n",
    "    'n_clients': 3,\n",
    "    'key_length': 1024,\n",
    "    'architecture': {\n",
    "        'n_features': 64, \n",
    "        'n_classes': 10,\n",
    "        'hidden_layers_size': (32,16),\n",
    "        'activations': ('tanh','tanh')\n",
    "    },\n",
    "    'train': {\n",
    "        'learning_rate': 0.01,\n",
    "        'epochs': 5\n",
    "    },\n",
    "    'test': {\n",
    "        'test_size': 0.1\n",
    "    }\n",
    "}"
   ]
  },
  {
   "cell_type": "code",
   "execution_count": 3,
   "id": "7a747a88",
   "metadata": {},
   "outputs": [],
   "source": [
    "dataset = load_digits()\n",
    "\n",
    "X, y = dataset.data, dataset.target"
   ]
  },
  {
   "cell_type": "code",
   "execution_count": 4,
   "id": "27510a50",
   "metadata": {},
   "outputs": [
    {
     "name": "stdout",
     "output_type": "stream",
     "text": [
      "Simulación para 3 clientes\n",
      "\n",
      "        ============================================================================================\n",
      "        Layers size: (64, 32, 16, 10)\n",
      "        ============================================================================================\n",
      "        Activations: ('tanh', 'tanh', 'softmax')\n",
      "        ============================================================================================\n",
      "        Trainable parameters: 2778\n",
      "        ============================================================================================\n",
      "        \n"
     ]
    }
   ],
   "source": [
    "simulation = Simulation(X, y, **HYPERPARAMS)\n",
    "print(simulation)\n",
    "simulation.print_metadata()"
   ]
  },
  {
   "cell_type": "code",
   "execution_count": 5,
   "id": "9ca169f0",
   "metadata": {},
   "outputs": [
    {
     "name": "stdout",
     "output_type": "stream",
     "text": [
      "Running local training for 5 epochs...\n",
      "\n",
      "Metrics that each client gets on test set by training only on own local data on Test Set:\n",
      "\n",
      "Client 1: 13.889%\n",
      "Client 2: 7.222%\n",
      "Client 3: 7.222%\n"
     ]
    }
   ],
   "source": [
    "simulation.run_local()"
   ]
  },
  {
   "cell_type": "code",
   "execution_count": 6,
   "id": "87e474ba",
   "metadata": {},
   "outputs": [
    {
     "name": "stdout",
     "output_type": "stream",
     "text": [
      "\n",
      "Running distributed gradient aggregation for 5 iterations...\n",
      "\n",
      "- Epoch 1 / 5 : Epoch Time: 115.27s, Total Time: 115.27s\n",
      "- Epoch 2 / 5 : Epoch Time: 135.88s, Total Time: 251.15s\n",
      "- Epoch 3 / 5 : Epoch Time: 129.47s, Total Time: 380.62s\n",
      "- Epoch 4 / 5 : Epoch Time: 126.91s, Total Time: 507.52s\n",
      "- Epoch 5 / 5 : Epoch Time: 127.97s, Total Time: 635.49s\n",
      "\n",
      "Metrics that each client gets on test set by training only on own local data on Test Set:\n",
      "\n",
      "Client 1: 14.444%\n",
      "Client 2: 7.222%\n",
      "Client 3: 7.778%\n"
     ]
    }
   ],
   "source": [
    "simulation.run_federated()"
   ]
  },
  {
   "cell_type": "code",
   "execution_count": null,
   "id": "f065c80b",
   "metadata": {},
   "outputs": [],
   "source": []
  }
 ],
 "metadata": {
  "kernelspec": {
   "display_name": "Python 3 (ipykernel)",
   "language": "python",
   "name": "python3"
  },
  "language_info": {
   "codemirror_mode": {
    "name": "ipython",
    "version": 3
   },
   "file_extension": ".py",
   "mimetype": "text/x-python",
   "name": "python",
   "nbconvert_exporter": "python",
   "pygments_lexer": "ipython3",
   "version": "3.8.13"
  }
 },
 "nbformat": 4,
 "nbformat_minor": 5
}
