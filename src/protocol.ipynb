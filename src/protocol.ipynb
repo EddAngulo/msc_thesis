{
 "cells": [
  {
   "cell_type": "code",
   "execution_count": 1,
   "id": "854e0dab",
   "metadata": {},
   "outputs": [],
   "source": [
    "import numpy as np\n",
    "\n",
    "from ml.models import MLPClassifier\n",
    "\n",
    "from sklearn.datasets import load_digits\n",
    "from sklearn.metrics import accuracy_score\n",
    "from sklearn.model_selection import train_test_split\n",
    "from sklearn.preprocessing import StandardScaler, OneHotEncoder"
   ]
  },
  {
   "cell_type": "markdown",
   "id": "eb85b15a",
   "metadata": {},
   "source": [
    "# Testing"
   ]
  },
  {
   "cell_type": "code",
   "execution_count": 2,
   "id": "7a747a88",
   "metadata": {},
   "outputs": [],
   "source": [
    "def print_metadata(model):\n",
    "    params = 0\n",
    "    \n",
    "    message = f'''\n",
    "    ============================================================================================\n",
    "    Layers size: {tuple(model.layers_size)}\n",
    "    ============================================================================================\n",
    "    Activations: {tuple(model.activations)}'''\n",
    "    \n",
    "    for key, value in model.parameters.items():\n",
    "        params += value.shape[0] * value.shape[1]\n",
    "        \n",
    "    message = f'''{message}\n",
    "    ============================================================================================\n",
    "    Trainable parameters: {params}\n",
    "    ============================================================================================\n",
    "    '''\n",
    "    \n",
    "    print(message)"
   ]
  },
  {
   "cell_type": "code",
   "execution_count": 3,
   "id": "d2e84e38",
   "metadata": {},
   "outputs": [],
   "source": [
    "HYPERPARAMS = {\n",
    "    'architecture': {\n",
    "        'n_features': 64, \n",
    "        'n_classes': 10,\n",
    "        'hidden_layers_size': (32,16),\n",
    "        'activations': ('tanh','tanh')\n",
    "    },\n",
    "    'train': {\n",
    "        'learning_rate': 0.01,\n",
    "        'epochs': 300\n",
    "    }\n",
    "}"
   ]
  },
  {
   "cell_type": "code",
   "execution_count": 4,
   "id": "27510a50",
   "metadata": {},
   "outputs": [],
   "source": [
    "dataset = load_digits()\n",
    "scaler = StandardScaler()\n",
    "encoder = OneHotEncoder(sparse=False).fit(np.array([i for i in range(10)]).reshape(-1, 1))\n",
    "\n",
    "X, y = dataset.data, dataset.target\n",
    "\n",
    "X_std = scaler.fit_transform(X)\n",
    "\n",
    "X_train, X_test, y_train, y_test = train_test_split(X_std, y, test_size=0.2)\n",
    "\n",
    "X_train, X_test, y_train = X_train.T, X_test.T, encoder.transform(y_train.reshape(-1, 1)).T"
   ]
  },
  {
   "cell_type": "code",
   "execution_count": 5,
   "id": "6fd44f55",
   "metadata": {},
   "outputs": [
    {
     "name": "stdout",
     "output_type": "stream",
     "text": [
      "\n",
      "    ============================================================================================\n",
      "    Layers size: (64, 32, 16, 10)\n",
      "    ============================================================================================\n",
      "    Activations: ('tanh', 'tanh', 'softmax')\n",
      "    ============================================================================================\n",
      "    Trainable parameters: 2778\n",
      "    ============================================================================================\n",
      "    \n"
     ]
    }
   ],
   "source": [
    "model = MLPClassifier(**HYPERPARAMS['architecture'])\n",
    "print_metadata(model)"
   ]
  },
  {
   "cell_type": "code",
   "execution_count": 6,
   "id": "f9ca75c5",
   "metadata": {
    "scrolled": true
   },
   "outputs": [],
   "source": [
    "model.fit(X_train, y_train, **HYPERPARAMS['train'])"
   ]
  },
  {
   "cell_type": "code",
   "execution_count": 7,
   "id": "59bdf318",
   "metadata": {},
   "outputs": [],
   "source": [
    "y_pred = model.predict(X_test)"
   ]
  },
  {
   "cell_type": "code",
   "execution_count": 8,
   "id": "65c7733d",
   "metadata": {},
   "outputs": [
    {
     "name": "stdout",
     "output_type": "stream",
     "text": [
      "Accuracy: 0.7916666666666666\n"
     ]
    }
   ],
   "source": [
    "print('Accuracy:', accuracy_score(y_test, y_pred))"
   ]
  }
 ],
 "metadata": {
  "kernelspec": {
   "display_name": "Python 3 (ipykernel)",
   "language": "python",
   "name": "python3"
  },
  "language_info": {
   "codemirror_mode": {
    "name": "ipython",
    "version": 3
   },
   "file_extension": ".py",
   "mimetype": "text/x-python",
   "name": "python",
   "nbconvert_exporter": "python",
   "pygments_lexer": "ipython3",
   "version": "3.8.13"
  }
 },
 "nbformat": 4,
 "nbformat_minor": 5
}
